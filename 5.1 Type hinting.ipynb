{
 "cells": [
  {
   "cell_type": "code",
   "execution_count": null,
   "metadata": {},
   "outputs": [],
   "source": [
    "def say_something(number, word):\n",
    "    word = word.capitalize()\n",
    "    return word * number"
   ]
  },
  {
   "cell_type": "code",
   "execution_count": 2,
   "metadata": {},
   "outputs": [],
   "source": [
    "def say_something(number: int, word: str) -> str:\n",
    "    word = word.capitalize()\n",
    "    return word * number"
   ]
  },
  {
   "cell_type": "code",
   "execution_count": 3,
   "metadata": {},
   "outputs": [
    {
     "name": "stdout",
     "output_type": "stream",
     "text": [
      "WordWordWordWordWord\n"
     ]
    }
   ],
   "source": [
    "number = int(input('Введите число '))\n",
    "word = input(\"Введите слово \")\n",
    "\n",
    "print(say_something(number, word))"
   ]
  },
  {
   "cell_type": "code",
   "execution_count": null,
   "metadata": {},
   "outputs": [],
   "source": [
    "# Примеры:\n",
    "\n",
    "first_var  : int        = 5\n",
    "second_var : str        = 'second_var'\n",
    "third_var  : list       = []\n",
    "fourth_var : float\n",
    "fifth_var  : dict\n",
    "sixth_var  : tuple[int] = (1, 2)"
   ]
  },
  {
   "cell_type": "code",
   "execution_count": null,
   "metadata": {},
   "outputs": [],
   "source": [
    "# Синтаксис аннотаций для функций (методов):\n",
    "\n",
    "def <имя_функции>(<arg_1>: <тип>, <arg_2>: <тип> = <значение>) -> <тип_результата>:\n",
    "    <тело функции>"
   ]
  },
  {
   "cell_type": "code",
   "execution_count": null,
   "metadata": {},
   "outputs": [],
   "source": [
    "# Примеры:\n",
    "\n",
    "def get_something_1(arg_1: int, arg_2: str = '', arg_3: list[int]) -> str:\n",
    "    pass\n",
    "\n",
    "\n",
    "def get_something_2(arg_1: tuple[int, bool]) -> None:\n",
    "    pass"
   ]
  },
  {
   "cell_type": "code",
   "execution_count": null,
   "metadata": {},
   "outputs": [],
   "source": [
    "def some_function(number: int | float) -> None:\n",
    "    pass"
   ]
  },
  {
   "cell_type": "code",
   "execution_count": 1,
   "metadata": {},
   "outputs": [
    {
     "ename": "TypeError",
     "evalue": "unsupported operand type(s) for |: 'type' and 'type'",
     "output_type": "error",
     "traceback": [
      "\u001b[1;31m---------------------------------------------------------------------------\u001b[0m",
      "\u001b[1;31mTypeError\u001b[0m                                 Traceback (most recent call last)",
      "Cell \u001b[1;32mIn [1], line 1\u001b[0m\n\u001b[1;32m----> 1\u001b[0m \u001b[39mdef\u001b[39;00m \u001b[39manother_some_function\u001b[39m(number: \u001b[39mint\u001b[39;49m \u001b[39m|\u001b[39;49m \u001b[39mfloat\u001b[39;49m \u001b[39m|\u001b[39m \u001b[39mcomplex\u001b[39m \u001b[39m=\u001b[39m \u001b[39m0\u001b[39m) \u001b[39m-\u001b[39m\u001b[39m>\u001b[39m \u001b[39mNone\u001b[39;00m:\n\u001b[0;32m      2\u001b[0m     \u001b[39mpass\u001b[39;00m\n",
      "\u001b[1;31mTypeError\u001b[0m: unsupported operand type(s) for |: 'type' and 'type'"
     ]
    }
   ],
   "source": [
    "def another_some_function(number: int | float | complex = 0) -> None:\n",
    "    pass"
   ]
  },
  {
   "cell_type": "code",
   "execution_count": null,
   "metadata": {},
   "outputs": [],
   "source": [
    "# Коллекции, типа, list, dict, tuple, set и т.п., также в квадратных скобках позволяют указывать типы, входящих в них объектов.\n",
    "\n",
    "lst_1: list[int]                # Все элементы списка lst_1 типа int\n",
    "tpl_2: tuple[bool]              # Все элементы кортежа tpl_2 типа bool\n",
    "tpl_3: tuple[int, bool, float]  # Кортеж tpl_3 состоит из трех элементов\n",
    "                                # Первый типа int, второй типа bool, а третий типа float\n",
    "set_4: set[int | float]         # Элементы множества set_4 либо int, либо float типов"
   ]
  },
  {
   "cell_type": "code",
   "execution_count": null,
   "metadata": {},
   "outputs": [],
   "source": [
    "def get_tuple(lst: list[float | bool]) -> tuple[int]:\n",
    "    return tuple(int(num) for num in lst)"
   ]
  },
  {
   "cell_type": "code",
   "execution_count": null,
   "metadata": {},
   "outputs": [
    {
     "ename": "TypeError",
     "evalue": "unsupported operand type(s) for |: 'type' and 'type'",
     "output_type": "error",
     "traceback": [
      "\u001b[1;31m---------------------------------------------------------------------------\u001b[0m",
      "\u001b[1;31mTypeError\u001b[0m                                 Traceback (most recent call last)",
      "Cell \u001b[1;32mIn [5], line 1\u001b[0m\n\u001b[1;32m----> 1\u001b[0m \u001b[39mdef\u001b[39;00m \u001b[39mdo_something\u001b[39m(arg: \u001b[39mdict\u001b[39m[\u001b[39mint\u001b[39m, \u001b[39mstr\u001b[39;49m \u001b[39m|\u001b[39;49m \u001b[39mbool\u001b[39;49m]) \u001b[39m-\u001b[39m\u001b[39m>\u001b[39m \u001b[39mNone\u001b[39;00m:\n\u001b[0;32m      2\u001b[0m     \u001b[39mpass\u001b[39;00m\n",
      "\u001b[1;31mTypeError\u001b[0m: unsupported operand type(s) for |: 'type' and 'type'"
     ]
    }
   ],
   "source": [
    "def do_something(arg: dict[int, str | bool]) -> None:\n",
    "    pass"
   ]
  },
  {
   "cell_type": "code",
   "execution_count": null,
   "metadata": {},
   "outputs": [
    {
     "ename": "TypeError",
     "evalue": "unsupported operand type(s) for |: 'type' and 'type'",
     "output_type": "error",
     "traceback": [
      "\u001b[1;31m---------------------------------------------------------------------------\u001b[0m",
      "\u001b[1;31mTypeError\u001b[0m                                 Traceback (most recent call last)",
      "Cell \u001b[1;32mIn [7], line 1\u001b[0m\n\u001b[1;32m----> 1\u001b[0m \u001b[39mdef\u001b[39;00m \u001b[39mget_tuple\u001b[39m(lst: \u001b[39mlist\u001b[39m[\u001b[39mfloat\u001b[39;49m \u001b[39m|\u001b[39;49m \u001b[39mbool\u001b[39;49m]) \u001b[39m-\u001b[39m\u001b[39m>\u001b[39m \u001b[39mtuple\u001b[39m[\u001b[39mint\u001b[39m]:\n\u001b[0;32m      2\u001b[0m     \u001b[39mreturn\u001b[39;00m (\u001b[39mint\u001b[39m(num) \u001b[39mfor\u001b[39;00m num \u001b[39min\u001b[39;00m lst)\n\u001b[0;32m      4\u001b[0m \u001b[39mprint\u001b[39m(get_tuple([\u001b[39m1.0\u001b[39m, \u001b[39mFalse\u001b[39;00m, \u001b[39m2.3\u001b[39m]))\n",
      "\u001b[1;31mTypeError\u001b[0m: unsupported operand type(s) for |: 'type' and 'type'"
     ]
    }
   ],
   "source": [
    "def get_tuple(lst: list[float | bool]) -> tuple[int]:\n",
    "    return (int(num) for num in lst)\n",
    "\n",
    "print(get_tuple([1.0, False, 2.3]))"
   ]
  },
  {
   "cell_type": "code",
   "execution_count": null,
   "metadata": {},
   "outputs": [],
   "source": [
    "from typing import Literal\n",
    "\n",
    "\n",
    "user : dict[Literal['name'] | Literal['second_name'] | Literal['username'], str]\n",
    "\n",
    "user[]"
   ]
  },
  {
   "cell_type": "code",
   "execution_count": null,
   "metadata": {},
   "outputs": [],
   "source": []
  },
  {
   "attachments": {},
   "cell_type": "markdown",
   "metadata": {},
   "source": [
    "# Классы и датаклассы"
   ]
  },
  {
   "cell_type": "code",
   "execution_count": 2,
   "metadata": {},
   "outputs": [],
   "source": [
    "# Стандартно наш класс User в Python можно оформить так:\n",
    "\n",
    "class User:\n",
    "    def __init__(self, user_id, name, age, email):\n",
    "        self.user_id = user_id\n",
    "        self.name = name\n",
    "        self.age = age\n",
    "        self.email = email"
   ]
  },
  {
   "cell_type": "code",
   "execution_count": 3,
   "metadata": {},
   "outputs": [
    {
     "name": "stdout",
     "output_type": "stream",
     "text": [
      "Возраст пользователя Vasiliy - 23, а email - vasya_pupkin@pochta.ru\n"
     ]
    }
   ],
   "source": [
    "# И затем, нам никто не мешает передавать экземпляр такого класса в какую-нибудь функцию:  \n",
    "\n",
    "def get_user_info(user: User) -> str:\n",
    "    return f'Возраст пользователя {user.name} - {user.age}, ' \\\n",
    "           f'а email - {user.email}'\n",
    "\n",
    "\n",
    "user_1: User = User(42, 'Vasiliy', 23, 'vasya_pupkin@pochta.ru')\n",
    "print(get_user_info(user_1))"
   ]
  },
  {
   "attachments": {},
   "cell_type": "markdown",
   "metadata": {},
   "source": [
    "Но, скажите, вас никогда не напрягали все эти __init__(self) и self.something = something? Меня напрягали всегда :) И, к счастью, видимо, не меня одного, потому что умные люди придумали датаклассы (dataclasses), которые убирают за \"ширму\" все эти __init__(self). Смотрите, как лаконично теперь выглядит тот же самый класс User:"
   ]
  },
  {
   "cell_type": "code",
   "execution_count": null,
   "metadata": {},
   "outputs": [],
   "source": [
    "from dataclasses import dataclass\n",
    "\n",
    "\n",
    "@dataclass\n",
    "class User:\n",
    "    user_id: int\n",
    "    name: str\n",
    "    age: int\n",
    "    email: str"
   ]
  },
  {
   "attachments": {},
   "cell_type": "markdown",
   "metadata": {},
   "source": [
    "Давайте приведу пример из разработки телеграм-ботов, чтобы немного заземлить теорию. Вот так, например, можно оформить класс Config, в экземпляре которого будут храниться конфигурационные данные для наших с вами ботов и данные для подключения к базе данных, которые мы будем получать сначала из переменных окружения:"
   ]
  },
  {
   "cell_type": "code",
   "execution_count": 10,
   "metadata": {},
   "outputs": [],
   "source": [
    "from dataclasses import dataclass\n",
    "# from __future__ import annotations\n",
    "\n",
    "@dataclass\n",
    "class DatabaseConfig:\n",
    "    db_host: str       # URL-адрес базы данных\n",
    "    db_user: str       # Username пользователя базы данных\n",
    "    db_password: str   # Пароль к базе данных\n",
    "    database: str      # Название базы данных\n",
    "\n",
    "\n",
    "@dataclass\n",
    "class TgBot:\n",
    "    token: str             # Токен для доступа к телеграм-боту\n",
    "    admin_ids: list[int]   # Список id администраторов бота\n",
    "\n",
    "\n",
    "@dataclass\n",
    "class Config:\n",
    "    tg_bot: TgBot\n",
    "    db: DatabaseConfig"
   ]
  },
  {
   "cell_type": "code",
   "execution_count": 11,
   "metadata": {},
   "outputs": [
    {
     "ename": "NameError",
     "evalue": "name 'BOT_TOKEN' is not defined",
     "output_type": "error",
     "traceback": [
      "\u001b[1;31m---------------------------------------------------------------------------\u001b[0m",
      "\u001b[1;31mNameError\u001b[0m                                 Traceback (most recent call last)",
      "Cell \u001b[1;32mIn [11], line 3\u001b[0m\n\u001b[0;32m      1\u001b[0m \u001b[39m# Если создать экземпляр класса Config:\u001b[39;00m\n\u001b[1;32m----> 3\u001b[0m config \u001b[39m=\u001b[39m Config(tg_bot\u001b[39m=\u001b[39mTgBot(token\u001b[39m=\u001b[39mBOT_TOKEN,\n\u001b[0;32m      4\u001b[0m                              admin_ids\u001b[39m=\u001b[39mADMIN_IDS),\n\u001b[0;32m      5\u001b[0m                 db\u001b[39m=\u001b[39mDatabaseConfig(db_host\u001b[39m=\u001b[39mDB_HOST,\n\u001b[0;32m      6\u001b[0m                                   db_user\u001b[39m=\u001b[39mDB_USER,\n\u001b[0;32m      7\u001b[0m                                   db_password\u001b[39m=\u001b[39mDB_PASSWORD,\n\u001b[0;32m      8\u001b[0m                                   database\u001b[39m=\u001b[39mDATABASE))\n",
      "\u001b[1;31mNameError\u001b[0m: name 'BOT_TOKEN' is not defined"
     ]
    }
   ],
   "source": [
    "# Если создать экземпляр класса Config:\n",
    "\n",
    "config = Config(tg_bot=TgBot(token=BOT_TOKEN,\n",
    "                             admin_ids=ADMIN_IDS),\n",
    "                db=DatabaseConfig(db_host=DB_HOST,\n",
    "                                  db_user=DB_USER,\n",
    "                                  db_password=DB_PASSWORD,\n",
    "                                  database=DATABASE))"
   ]
  },
  {
   "cell_type": "code",
   "execution_count": 12,
   "metadata": {},
   "outputs": [
    {
     "ename": "NameError",
     "evalue": "name 'config' is not defined",
     "output_type": "error",
     "traceback": [
      "\u001b[1;31m---------------------------------------------------------------------------\u001b[0m",
      "\u001b[1;31mNameError\u001b[0m                                 Traceback (most recent call last)",
      "Cell \u001b[1;32mIn [12], line 3\u001b[0m\n\u001b[0;32m      1\u001b[0m \u001b[39m# То, например, получить токен бота можно, будет так:\u001b[39;00m\n\u001b[1;32m----> 3\u001b[0m token \u001b[39m=\u001b[39m config\u001b[39m.\u001b[39mtg_bot\u001b[39m.\u001b[39mtoken\n",
      "\u001b[1;31mNameError\u001b[0m: name 'config' is not defined"
     ]
    }
   ],
   "source": [
    "# То, например, получить токен бота можно, будет так:\n",
    "\n",
    "token = config.tg_bot.token"
   ]
  },
  {
   "cell_type": "code",
   "execution_count": null,
   "metadata": {},
   "outputs": [],
   "source": [
    "# А пароль к базе данных так:\n",
    "\n",
    "db_passw = config.db.db_password"
   ]
  },
  {
   "attachments": {},
   "cell_type": "markdown",
   "metadata": {},
   "source": [
    "# __annotations__\n",
    "\n",
    "О чем еще не сказал, так это о том, где объекты хранят аннотации типов. Для этого существует специальный атрибут __annotations__, который хранит аннотации в виде словаря с ключами - названиями переменных и значениями - их типами.\n",
    "\n",
    "Пример. Функция get_string, получающая на вход строку и число, а возвращающаяя строку."
   ]
  },
  {
   "cell_type": "code",
   "execution_count": 13,
   "metadata": {},
   "outputs": [],
   "source": [
    "def get_string(string: str, number: int) -> str:\n",
    "    return string * number"
   ]
  },
  {
   "cell_type": "code",
   "execution_count": 14,
   "metadata": {},
   "outputs": [
    {
     "name": "stdout",
     "output_type": "stream",
     "text": [
      "{'string': 'str', 'number': 'int', 'return': 'str'}\n"
     ]
    }
   ],
   "source": [
    "# Если обратиться к атрибуту __annotations__ функции get_string: \n",
    "\n",
    "print(get_string.__annotations__)\n",
    "\n",
    "# увидим следующий словарь:\n",
    "\n",
    "# {'string': <class 'str'>, 'number': <class 'int'>, 'return': <class 'str'>}"
   ]
  },
  {
   "cell_type": "markdown",
   "metadata": {},
   "source": []
  },
  {
   "cell_type": "code",
   "execution_count": null,
   "metadata": {},
   "outputs": [],
   "source": []
  },
  {
   "cell_type": "code",
   "execution_count": null,
   "metadata": {},
   "outputs": [],
   "source": []
  },
  {
   "cell_type": "code",
   "execution_count": null,
   "metadata": {},
   "outputs": [],
   "source": []
  },
  {
   "attachments": {},
   "cell_type": "markdown",
   "metadata": {},
   "source": [
    "\n"
   ]
  }
 ],
 "metadata": {
  "kernelspec": {
   "display_name": "Python 3",
   "language": "python",
   "name": "python3"
  },
  "language_info": {
   "codemirror_mode": {
    "name": "ipython",
    "version": 3
   },
   "file_extension": ".py",
   "mimetype": "text/x-python",
   "name": "python",
   "nbconvert_exporter": "python",
   "pygments_lexer": "ipython3",
   "version": "3.8.10"
  },
  "orig_nbformat": 4,
  "vscode": {
   "interpreter": {
    "hash": "5f95230cc42b624b0c87efca252e4686413b733867bb20d2793dd097f03cf869"
   }
  }
 },
 "nbformat": 4,
 "nbformat_minor": 2
}
