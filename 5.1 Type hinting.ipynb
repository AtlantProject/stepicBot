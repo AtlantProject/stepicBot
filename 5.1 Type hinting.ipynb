{
 "cells": [
  {
   "cell_type": "code",
   "execution_count": null,
   "metadata": {},
   "outputs": [],
   "source": [
    "def say_something(number, word):\n",
    "    word = word.capitalize()\n",
    "    return word * number"
   ]
  },
  {
   "cell_type": "code",
   "execution_count": 2,
   "metadata": {},
   "outputs": [],
   "source": [
    "def say_something(number: int, word: str) -> str:\n",
    "    word = word.capitalize()\n",
    "    return word * number"
   ]
  },
  {
   "cell_type": "code",
   "execution_count": 3,
   "metadata": {},
   "outputs": [
    {
     "name": "stdout",
     "output_type": "stream",
     "text": [
      "WordWordWordWordWord\n"
     ]
    }
   ],
   "source": [
    "number = int(input('Введите число '))\n",
    "word = input(\"Введите слово \")\n",
    "\n",
    "print(say_something(number, word))"
   ]
  },
  {
   "cell_type": "code",
   "execution_count": null,
   "metadata": {},
   "outputs": [],
   "source": [
    "# Примеры:\n",
    "\n",
    "first_var  : int        = 5\n",
    "second_var : str        = 'second_var'\n",
    "third_var  : list       = []\n",
    "fourth_var : float\n",
    "fifth_var  : dict\n",
    "sixth_var  : tuple[int] = (1, 2)"
   ]
  },
  {
   "cell_type": "code",
   "execution_count": null,
   "metadata": {},
   "outputs": [],
   "source": [
    "# Синтаксис аннотаций для функций (методов):\n",
    "\n",
    "def <имя_функции>(<arg_1>: <тип>, <arg_2>: <тип> = <значение>) -> <тип_результата>:\n",
    "    <тело функции>"
   ]
  },
  {
   "cell_type": "code",
   "execution_count": null,
   "metadata": {},
   "outputs": [],
   "source": [
    "# Примеры:\n",
    "\n",
    "def get_something_1(arg_1: int, arg_2: str = '', arg_3: list[int]) -> str:\n",
    "    pass\n",
    "\n",
    "\n",
    "def get_something_2(arg_1: tuple[int, bool]) -> None:\n",
    "    pass"
   ]
  },
  {
   "cell_type": "code",
   "execution_count": null,
   "metadata": {},
   "outputs": [],
   "source": []
  }
 ],
 "metadata": {
  "kernelspec": {
   "display_name": "Python 3",
   "language": "python",
   "name": "python3"
  },
  "language_info": {
   "codemirror_mode": {
    "name": "ipython",
    "version": 3
   },
   "file_extension": ".py",
   "mimetype": "text/x-python",
   "name": "python",
   "nbconvert_exporter": "python",
   "pygments_lexer": "ipython3",
   "version": "3.8.10"
  },
  "orig_nbformat": 4,
  "vscode": {
   "interpreter": {
    "hash": "5f95230cc42b624b0c87efca252e4686413b733867bb20d2793dd097f03cf869"
   }
  }
 },
 "nbformat": 4,
 "nbformat_minor": 2
}
